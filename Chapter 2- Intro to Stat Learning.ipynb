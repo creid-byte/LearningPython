{
 "cells": [
  {
   "cell_type": "code",
   "execution_count": 2,
   "id": "99a72332",
   "metadata": {},
   "outputs": [],
   "source": [
    "import pandas as pd\n",
    "import numpy as np\n",
    "import matplotlib.pyplot as plt"
   ]
  },
  {
   "cell_type": "code",
   "execution_count": 5,
   "id": "d810df21",
   "metadata": {},
   "outputs": [
    {
     "name": "stdout",
     "output_type": "stream",
     "text": [
      "[1 6 2]\n",
      "[1 4 3]\n",
      "\n",
      "\n",
      "3\n",
      "3\n"
     ]
    }
   ],
   "source": [
    "x = np.array([1,6,2])\n",
    "y = np.array([1,4,3])\n",
    "\n",
    "print(x)\n",
    "print(y)\n",
    "print('\\n'\n",
    "    )\n",
    "print(len(x))\n",
    "print(len(y))"
   ]
  },
  {
   "cell_type": "code",
   "execution_count": 8,
   "id": "4a479bb8",
   "metadata": {},
   "outputs": [
    {
     "name": "stdout",
     "output_type": "stream",
     "text": [
      "[[1 6 2]\n",
      " [1 4 3]]\n"
     ]
    }
   ],
   "source": [
    "matrix = np.matrix([x,y])\n",
    "print(matrix)"
   ]
  },
  {
   "cell_type": "code",
   "execution_count": 10,
   "id": "18e8ef26",
   "metadata": {},
   "outputs": [
    {
     "name": "stdout",
     "output_type": "stream",
     "text": [
      "[[1.         2.44948974 1.41421356]\n",
      " [1.         2.         1.73205081]]\n"
     ]
    }
   ],
   "source": [
    "spr_matrix = np.sqrt(matrix)\n",
    "print(spr_matrix)"
   ]
  },
  {
   "cell_type": "markdown",
   "id": "b7f03b7a",
   "metadata": {},
   "source": [
    "# Generate a random normal distribution "
   ]
  },
  {
   "cell_type": "code",
   "execution_count": 12,
   "id": "3bf88cc1",
   "metadata": {},
   "outputs": [
    {
     "name": "stdout",
     "output_type": "stream",
     "text": [
      "[-0.89697889  1.11694431  0.07673057 -1.70555631  0.69686471 -0.34560179\n",
      "  0.32461865 -1.21845526  1.18893881  0.42802819  0.26410764  0.12404945\n",
      "  0.95688299 -0.29976015 -0.7804824  -1.72914976 -2.25415017  0.03877795\n",
      " -1.98455935  0.25924861 -0.09926475 -2.12710681 -1.86447142  1.9711192\n",
      " -0.97298199 -0.134488    0.68966988  0.4791145  -0.34071195 -0.11522189\n",
      " -2.73076416  0.99972061 -0.18399692  0.65111537 -0.91823271  0.91037009\n",
      "  1.30820525 -0.31528497 -0.18017272  2.53648406  0.58158246  0.42581619\n",
      "  2.31946559 -0.65083168 -1.69459751  0.86296638  0.17565453  1.99398266\n",
      "  1.27091712  1.04229552]\n",
      "\n",
      "\n",
      "[49.10715771 51.20887715 50.18177399 48.07884393 50.77502034 49.50188531\n",
      " 50.35254469 48.66710397 51.2200519  50.27557004 50.22713518 50.27820254\n",
      " 51.04902538 49.66566294 49.17056378 48.25516066 47.83003766 49.94134304\n",
      " 47.7839567  50.34400537 49.85161504 47.83621669 48.29130296 51.99704289\n",
      " 49.02993432 49.87250786 50.55561591 50.50559322 49.71639916 49.8046945\n",
      " 47.45962607 51.21611258 49.79231291 50.74995728 48.93478031 50.87479074\n",
      " 51.42236609 49.56101451 49.61386966 52.68157942 50.45393801 50.35093053\n",
      " 52.33628224 49.30674064 48.17709074 50.81416637 50.33886006 51.93582018\n",
      " 51.20175947 51.205005  ]\n"
     ]
    }
   ],
   "source": [
    "x= np.random.normal(0,1,50)\n",
    "print(x)\n",
    "print('\\n')\n",
    "\n",
    "y=x + np.random.normal(50,0.1,50)\n",
    "print(y)"
   ]
  },
  {
   "cell_type": "markdown",
   "id": "df5b0245",
   "metadata": {},
   "source": [
    "# Plotting "
   ]
  },
  {
   "cell_type": "code",
   "execution_count": 21,
   "id": "cead4d4b",
   "metadata": {},
   "outputs": [
    {
     "data": {
      "image/png": "[encoded data removed]",
      "text/plain": [
       "<Figure size 432x288 with 1 Axes>"
      ]
     },
     "metadata": {
      "needs_background": "light"
     },
     "output_type": "display_data"
    }
   ],
   "source": [
    "x= np.random.normal(0,1,100)\n",
    "y = np.random.normal(0,1,100)\n",
    "\n",
    "plt.plot(x,y, 'o')\n",
    "plt.title('This is the title of x vs. y')\n",
    "plt.xlabel('This is the x-axis')\n",
    "plt.ylabel('This is the y-axis')\n",
    "plt.savefig('This is a test graph')\n",
    "plt.show()"
   ]
  },
  {
   "cell_type": "markdown",
   "id": "853f7be3",
   "metadata": {},
   "source": [
    "# Indexing "
   ]
  },
  {
   "cell_type": "code",
   "execution_count": 31,
   "id": "df4bf40e",
   "metadata": {},
   "outputs": [
    {
     "name": "stdout",
     "output_type": "stream",
     "text": [
      "[[ 1  5  9 13]\n",
      " [ 2  6 10 14]\n",
      " [ 3  7 11 15]\n",
      " [ 4  8 12 16]]\n"
     ]
    }
   ],
   "source": [
    "data = np.arange(1,17).reshape(4,4).transpose()\n",
    "print(data)"
   ]
  },
  {
   "cell_type": "markdown",
   "id": "9805731c",
   "metadata": {},
   "source": [
    "# Loading Data"
   ]
  },
  {
   "cell_type": "code",
   "execution_count": 41,
   "id": "e552f09f",
   "metadata": {},
   "outputs": [
    {
     "data": {
      "text/html": [
       "<div>\n",
       "<style scoped>\n",
       "    .dataframe tbody tr th:only-of-type {\n",
       "        vertical-align: middle;\n",
       "    }\n",
       "\n",
       "    .dataframe tbody tr th {\n",
       "        vertical-align: top;\n",
       "    }\n",
       "\n",
       "    .dataframe thead th {\n",
       "        text-align: right;\n",
       "    }\n",
       "</style>\n",
       "<table border=\"1\" class=\"dataframe\">\n",
       "  <thead>\n",
       "    <tr style=\"text-align: right;\">\n",
       "      <th></th>\n",
       "      <th>mpg</th>\n",
       "      <th>cylinders</th>\n",
       "      <th>displacement</th>\n",
       "      <th>horsepower</th>\n",
       "      <th>weight</th>\n",
       "      <th>acceleration</th>\n",
       "      <th>year</th>\n",
       "      <th>origin</th>\n",
       "      <th>name</th>\n",
       "    </tr>\n",
       "  </thead>\n",
       "  <tbody>\n",
       "    <tr>\n",
       "      <th>0</th>\n",
       "      <td>18.0</td>\n",
       "      <td>8</td>\n",
       "      <td>307.0</td>\n",
       "      <td>130.0</td>\n",
       "      <td>3504</td>\n",
       "      <td>12.0</td>\n",
       "      <td>70</td>\n",
       "      <td>1</td>\n",
       "      <td>chevrolet chevelle malibu</td>\n",
       "    </tr>\n",
       "    <tr>\n",
       "      <th>1</th>\n",
       "      <td>15.0</td>\n",
       "      <td>8</td>\n",
       "      <td>350.0</td>\n",
       "      <td>165.0</td>\n",
       "      <td>3693</td>\n",
       "      <td>11.5</td>\n",
       "      <td>70</td>\n",
       "      <td>1</td>\n",
       "      <td>buick skylark 320</td>\n",
       "    </tr>\n",
       "    <tr>\n",
       "      <th>2</th>\n",
       "      <td>18.0</td>\n",
       "      <td>8</td>\n",
       "      <td>318.0</td>\n",
       "      <td>150.0</td>\n",
       "      <td>3436</td>\n",
       "      <td>11.0</td>\n",
       "      <td>70</td>\n",
       "      <td>1</td>\n",
       "      <td>plymouth satellite</td>\n",
       "    </tr>\n",
       "    <tr>\n",
       "      <th>3</th>\n",
       "      <td>16.0</td>\n",
       "      <td>8</td>\n",
       "      <td>304.0</td>\n",
       "      <td>150.0</td>\n",
       "      <td>3433</td>\n",
       "      <td>12.0</td>\n",
       "      <td>70</td>\n",
       "      <td>1</td>\n",
       "      <td>amc rebel sst</td>\n",
       "    </tr>\n",
       "    <tr>\n",
       "      <th>4</th>\n",
       "      <td>17.0</td>\n",
       "      <td>8</td>\n",
       "      <td>302.0</td>\n",
       "      <td>140.0</td>\n",
       "      <td>3449</td>\n",
       "      <td>10.5</td>\n",
       "      <td>70</td>\n",
       "      <td>1</td>\n",
       "      <td>ford torino</td>\n",
       "    </tr>\n",
       "  </tbody>\n",
       "</table>\n",
       "</div>"
      ],
      "text/plain": [
       "    mpg  cylinders  displacement  horsepower  weight  acceleration  year  \\\n",
       "0  18.0          8         307.0       130.0    3504          12.0    70   \n",
       "1  15.0          8         350.0       165.0    3693          11.5    70   \n",
       "2  18.0          8         318.0       150.0    3436          11.0    70   \n",
       "3  16.0          8         304.0       150.0    3433          12.0    70   \n",
       "4  17.0          8         302.0       140.0    3449          10.5    70   \n",
       "\n",
       "   origin                       name  \n",
       "0       1  chevrolet chevelle malibu  \n",
       "1       1          buick skylark 320  \n",
       "2       1         plymouth satellite  \n",
       "3       1              amc rebel sst  \n",
       "4       1                ford torino  "
      ]
     },
     "execution_count": 41,
     "metadata": {},
     "output_type": "execute_result"
    }
   ],
   "source": [
    "auto = pd.read_csv('Auto.csv', na_values='?',header=0)\n",
    "auto.head()"
   ]
  },
  {
   "cell_type": "code",
   "execution_count": 43,
   "id": "84f90bd5",
   "metadata": {},
   "outputs": [
    {
     "data": {
      "text/plain": [
       "(397, 9)"
      ]
     },
     "execution_count": 43,
     "metadata": {},
     "output_type": "execute_result"
    }
   ],
   "source": [
    "auto.shape"
   ]
  },
  {
   "cell_type": "code",
   "execution_count": 45,
   "id": "5109ea02",
   "metadata": {},
   "outputs": [
    {
     "name": "stdout",
     "output_type": "stream",
     "text": [
      "Index(['mpg', 'cylinders', 'displacement', 'horsepower', 'weight',\n",
      "       'acceleration', 'year', 'origin', 'name'],\n",
      "      dtype='object')\n"
     ]
    }
   ],
   "source": [
    "print(auto.columns)"
   ]
  },
  {
   "cell_type": "markdown",
   "id": "84215578",
   "metadata": {},
   "source": [
    "# Find missing values and drop NA values"
   ]
  },
  {
   "cell_type": "code",
   "execution_count": 50,
   "id": "498d2e7a",
   "metadata": {},
   "outputs": [
    {
     "data": {
      "text/plain": [
       "mpg             0\n",
       "cylinders       0\n",
       "displacement    0\n",
       "horsepower      5\n",
       "weight          0\n",
       "acceleration    0\n",
       "year            0\n",
       "origin          0\n",
       "name            0\n",
       "dtype: int64"
      ]
     },
     "execution_count": 50,
     "metadata": {},
     "output_type": "execute_result"
    }
   ],
   "source": [
    "auto.isnull().sum()"
   ]
  },
  {
   "cell_type": "code",
   "execution_count": 51,
   "id": "8be4a2fe",
   "metadata": {},
   "outputs": [],
   "source": [
    "auto = auto.dropna()"
   ]
  },
  {
   "cell_type": "code",
   "execution_count": 52,
   "id": "355913f5",
   "metadata": {},
   "outputs": [
    {
     "data": {
      "text/plain": [
       "mpg             0\n",
       "cylinders       0\n",
       "displacement    0\n",
       "horsepower      0\n",
       "weight          0\n",
       "acceleration    0\n",
       "year            0\n",
       "origin          0\n",
       "name            0\n",
       "dtype: int64"
      ]
     },
     "execution_count": 52,
     "metadata": {},
     "output_type": "execute_result"
    }
   ],
   "source": [
    "auto.isnull().sum()"
   ]
  },
  {
   "cell_type": "code",
   "execution_count": null,
   "id": "1e449ae8",
   "metadata": {},
   "outputs": [],
   "source": []
  }
 ],
 "metadata": {
  "kernelspec": {
   "display_name": "Python 3",
   "language": "python",
   "name": "python3"
  },
  "language_info": {
   "codemirror_mode": {
    "name": "ipython",
    "version": 3
   },
   "file_extension": ".py",
   "mimetype": "text/x-python",
   "name": "python",
   "nbconvert_exporter": "python",
   "pygments_lexer": "ipython3",
   "version": "3.8.8"
  }
 },
 "nbformat": 4,
 "nbformat_minor": 5
}
