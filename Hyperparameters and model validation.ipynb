{
 "cells": [
  {
   "cell_type": "markdown",
   "id": "8e68a8ab",
   "metadata": {},
   "source": [
    "Holdout set- hold back some subset of the data from the training of the model, then use the handout to check the model performance "
   ]
  },
  {
   "cell_type": "code",
   "execution_count": 5,
   "id": "504f90c7",
   "metadata": {},
   "outputs": [],
   "source": [
    "from sklearn.datasets import load_iris\n",
    "iris = load_iris()\n",
    "y = iris.target\n",
    "X =iris.data"
   ]
  },
  {
   "cell_type": "code",
   "execution_count": 10,
   "id": "4b08fb47",
   "metadata": {},
   "outputs": [
    {
     "data": {
      "text/plain": [
       "0.9066666666666666"
      ]
     },
     "execution_count": 10,
     "metadata": {},
     "output_type": "execute_result"
    }
   ],
   "source": [
    "from sklearn.model_selection import train_test_split\n",
    "#split the data with 50% in each set\n",
    "X1, X2, y1, y2 = train_test_split(X, y, random_state=0, train_size=0.5)\n",
    "\n",
    "from sklearn.neighbors import KNeighborsClassifier\n",
    "model = KNeighborsClassifier(n_neighbors=1)\n",
    "\n",
    "#fitting model on one set of data\n",
    "model.fit(X1, y1)\n",
    "\n",
    "# evaulate model and second set of data\n",
    "y2_model = model.predict(X2)\n",
    "\n",
    "from sklearn.metrics import accuracy_score\n",
    "accuracy_score(y2, y2_model)"
   ]
  },
  {
   "cell_type": "markdown",
   "id": "56b33376",
   "metadata": {},
   "source": [
    "From these results, we can see the nearest-neighbour classifier is about 90% accurate on the hold-out set. This is data is 'Unkown' data, as it has never been seen before.\n",
    "\n",
    "# Cross-validation\n",
    "* We lose a portion of our data to training data. The non-training data is not contributed to training the model, which can case problems\n",
    "\n",
    "Cross-validation is used to do a sequence of fits where each subset of the data is used as a training set and as a validation set"
   ]
  },
  {
   "cell_type": "code",
   "execution_count": 11,
   "id": "c48db1f5",
   "metadata": {},
   "outputs": [
    {
     "data": {
      "text/plain": [
       "(0.96, 0.9066666666666666)"
      ]
     },
     "execution_count": 11,
     "metadata": {},
     "output_type": "execute_result"
    }
   ],
   "source": [
    "# two validation trials using above data\n",
    "y2_model = model.fit(X1,y1).predict(X2)\n",
    "y1_model = model.fit(X2, y2).predict(X1)\n",
    "\n",
    "# Testing accuracy of both models\n",
    "accuracy_score(y1, y1_model), accuracy_score(y2, y2_model)"
   ]
  },
  {
   "cell_type": "markdown",
   "id": "5207b2ae",
   "metadata": {},
   "source": [
    "Above is an example of a two-fold cross-validation. Meaning we have split the data into 2 sets and used each in turn as a validation set.\n",
    "\n",
    "<h2>We can split the data into 5 groups, and use each of them to evaulate the model fit. We can use **cross_val_score** to do this</h2>"
   ]
  },
  {
   "cell_type": "code",
   "execution_count": 12,
   "id": "2308fac1",
   "metadata": {},
   "outputs": [
    {
     "data": {
      "text/plain": [
       "array([0.96666667, 0.96666667, 0.93333333, 0.93333333, 1.        ])"
      ]
     },
     "execution_count": 12,
     "metadata": {},
     "output_type": "execute_result"
    }
   ],
   "source": [
    "from sklearn.model_selection import cross_val_score\n",
    "cross_val_score(model, X, y, cv=5)"
   ]
  },
  {
   "cell_type": "code",
   "execution_count": null,
   "id": "6febf2c3",
   "metadata": {},
   "outputs": [],
   "source": []
  }
 ],
 "metadata": {
  "kernelspec": {
   "display_name": "Python 3",
   "language": "python",
   "name": "python3"
  },
  "language_info": {
   "codemirror_mode": {
    "name": "ipython",
    "version": 3
   },
   "file_extension": ".py",
   "mimetype": "text/x-python",
   "name": "python",
   "nbconvert_exporter": "python",
   "pygments_lexer": "ipython3",
   "version": "3.8.8"
  }
 },
 "nbformat": 4,
 "nbformat_minor": 5
}
